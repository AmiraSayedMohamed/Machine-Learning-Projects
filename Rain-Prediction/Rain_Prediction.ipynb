{
  "nbformat": 4,
  "nbformat_minor": 0,
  "metadata": {
    "colab": {
      "provenance": []
    },
    "kernelspec": {
      "name": "python3",
      "display_name": "Python 3"
    },
    "language_info": {
      "name": "python"
    }
  },
  "cells": [
    {
      "cell_type": "markdown",
      "source": [
        "https://www.kaggle.com/datasets/jsphyg/weather-dataset-rattle-package"
      ],
      "metadata": {
        "id": "jJ279pttAiWE"
      }
    },
    {
      "cell_type": "markdown",
      "source": [
        "# Importing libraries"
      ],
      "metadata": {
        "id": "6mXKI8CS3kcM"
      }
    },
    {
      "cell_type": "code",
      "source": [
        "\n",
        "import numpy as np #for numerical operations.\n",
        "import pandas as pd #for data manipulation."
      ],
      "metadata": {
        "id": "3u2lxvS02l1q"
      },
      "execution_count": 1,
      "outputs": []
    },
    {
      "cell_type": "markdown",
      "source": [
        "# Importing Dataset"
      ],
      "metadata": {
        "id": "-56dqZ4e3oqR"
      }
    },
    {
      "cell_type": "code",
      "source": [
        "dataset = pd.read_csv('weatherAUS.csv') #reading the csv file\n",
        ""
      ],
      "metadata": {
        "id": "9WtT4YTV2nvG"
      },
      "execution_count": 2,
      "outputs": []
    },
    {
      "cell_type": "code",
      "source": [
        "dataset.head()"
      ],
      "metadata": {
        "colab": {
          "base_uri": "https://localhost:8080/",
          "height": 342
        },
        "id": "Tt39q42h5F_r",
        "outputId": "fb38a37b-c37e-4e91-a9fe-0c03268e1898"
      },
      "execution_count": 29,
      "outputs": [
        {
          "output_type": "execute_result",
          "data": {
            "text/plain": [
              "         Date Location  MinTemp  MaxTemp  Rainfall  Evaporation  Sunshine  \\\n",
              "0  2008-12-01   Albury     13.4     22.9       0.6          NaN       NaN   \n",
              "1  2008-12-02   Albury      7.4     25.1       0.0          NaN       NaN   \n",
              "2  2008-12-03   Albury     12.9     25.7       0.0          NaN       NaN   \n",
              "3  2008-12-04   Albury      9.2     28.0       0.0          NaN       NaN   \n",
              "4  2008-12-05   Albury     17.5     32.3       1.0          NaN       NaN   \n",
              "\n",
              "  WindGustDir  WindGustSpeed WindDir9am  ... Humidity9am  Humidity3pm  \\\n",
              "0           W           44.0          W  ...        71.0         22.0   \n",
              "1         WNW           44.0        NNW  ...        44.0         25.0   \n",
              "2         WSW           46.0          W  ...        38.0         30.0   \n",
              "3          NE           24.0         SE  ...        45.0         16.0   \n",
              "4           W           41.0        ENE  ...        82.0         33.0   \n",
              "\n",
              "   Pressure9am  Pressure3pm  Cloud9am  Cloud3pm  Temp9am  Temp3pm  RainToday  \\\n",
              "0       1007.7       1007.1       8.0       NaN     16.9     21.8         No   \n",
              "1       1010.6       1007.8       NaN       NaN     17.2     24.3         No   \n",
              "2       1007.6       1008.7       NaN       2.0     21.0     23.2         No   \n",
              "3       1017.6       1012.8       NaN       NaN     18.1     26.5         No   \n",
              "4       1010.8       1006.0       7.0       8.0     17.8     29.7         No   \n",
              "\n",
              "   RainTomorrow  \n",
              "0            No  \n",
              "1            No  \n",
              "2            No  \n",
              "3            No  \n",
              "4            No  \n",
              "\n",
              "[5 rows x 23 columns]"
            ],
            "text/html": [
              "\n",
              "  <div id=\"df-fb1ff404-0b63-42f1-ab8c-97edba9d4a09\" class=\"colab-df-container\">\n",
              "    <div>\n",
              "<style scoped>\n",
              "    .dataframe tbody tr th:only-of-type {\n",
              "        vertical-align: middle;\n",
              "    }\n",
              "\n",
              "    .dataframe tbody tr th {\n",
              "        vertical-align: top;\n",
              "    }\n",
              "\n",
              "    .dataframe thead th {\n",
              "        text-align: right;\n",
              "    }\n",
              "</style>\n",
              "<table border=\"1\" class=\"dataframe\">\n",
              "  <thead>\n",
              "    <tr style=\"text-align: right;\">\n",
              "      <th></th>\n",
              "      <th>Date</th>\n",
              "      <th>Location</th>\n",
              "      <th>MinTemp</th>\n",
              "      <th>MaxTemp</th>\n",
              "      <th>Rainfall</th>\n",
              "      <th>Evaporation</th>\n",
              "      <th>Sunshine</th>\n",
              "      <th>WindGustDir</th>\n",
              "      <th>WindGustSpeed</th>\n",
              "      <th>WindDir9am</th>\n",
              "      <th>...</th>\n",
              "      <th>Humidity9am</th>\n",
              "      <th>Humidity3pm</th>\n",
              "      <th>Pressure9am</th>\n",
              "      <th>Pressure3pm</th>\n",
              "      <th>Cloud9am</th>\n",
              "      <th>Cloud3pm</th>\n",
              "      <th>Temp9am</th>\n",
              "      <th>Temp3pm</th>\n",
              "      <th>RainToday</th>\n",
              "      <th>RainTomorrow</th>\n",
              "    </tr>\n",
              "  </thead>\n",
              "  <tbody>\n",
              "    <tr>\n",
              "      <th>0</th>\n",
              "      <td>2008-12-01</td>\n",
              "      <td>Albury</td>\n",
              "      <td>13.4</td>\n",
              "      <td>22.9</td>\n",
              "      <td>0.6</td>\n",
              "      <td>NaN</td>\n",
              "      <td>NaN</td>\n",
              "      <td>W</td>\n",
              "      <td>44.0</td>\n",
              "      <td>W</td>\n",
              "      <td>...</td>\n",
              "      <td>71.0</td>\n",
              "      <td>22.0</td>\n",
              "      <td>1007.7</td>\n",
              "      <td>1007.1</td>\n",
              "      <td>8.0</td>\n",
              "      <td>NaN</td>\n",
              "      <td>16.9</td>\n",
              "      <td>21.8</td>\n",
              "      <td>No</td>\n",
              "      <td>No</td>\n",
              "    </tr>\n",
              "    <tr>\n",
              "      <th>1</th>\n",
              "      <td>2008-12-02</td>\n",
              "      <td>Albury</td>\n",
              "      <td>7.4</td>\n",
              "      <td>25.1</td>\n",
              "      <td>0.0</td>\n",
              "      <td>NaN</td>\n",
              "      <td>NaN</td>\n",
              "      <td>WNW</td>\n",
              "      <td>44.0</td>\n",
              "      <td>NNW</td>\n",
              "      <td>...</td>\n",
              "      <td>44.0</td>\n",
              "      <td>25.0</td>\n",
              "      <td>1010.6</td>\n",
              "      <td>1007.8</td>\n",
              "      <td>NaN</td>\n",
              "      <td>NaN</td>\n",
              "      <td>17.2</td>\n",
              "      <td>24.3</td>\n",
              "      <td>No</td>\n",
              "      <td>No</td>\n",
              "    </tr>\n",
              "    <tr>\n",
              "      <th>2</th>\n",
              "      <td>2008-12-03</td>\n",
              "      <td>Albury</td>\n",
              "      <td>12.9</td>\n",
              "      <td>25.7</td>\n",
              "      <td>0.0</td>\n",
              "      <td>NaN</td>\n",
              "      <td>NaN</td>\n",
              "      <td>WSW</td>\n",
              "      <td>46.0</td>\n",
              "      <td>W</td>\n",
              "      <td>...</td>\n",
              "      <td>38.0</td>\n",
              "      <td>30.0</td>\n",
              "      <td>1007.6</td>\n",
              "      <td>1008.7</td>\n",
              "      <td>NaN</td>\n",
              "      <td>2.0</td>\n",
              "      <td>21.0</td>\n",
              "      <td>23.2</td>\n",
              "      <td>No</td>\n",
              "      <td>No</td>\n",
              "    </tr>\n",
              "    <tr>\n",
              "      <th>3</th>\n",
              "      <td>2008-12-04</td>\n",
              "      <td>Albury</td>\n",
              "      <td>9.2</td>\n",
              "      <td>28.0</td>\n",
              "      <td>0.0</td>\n",
              "      <td>NaN</td>\n",
              "      <td>NaN</td>\n",
              "      <td>NE</td>\n",
              "      <td>24.0</td>\n",
              "      <td>SE</td>\n",
              "      <td>...</td>\n",
              "      <td>45.0</td>\n",
              "      <td>16.0</td>\n",
              "      <td>1017.6</td>\n",
              "      <td>1012.8</td>\n",
              "      <td>NaN</td>\n",
              "      <td>NaN</td>\n",
              "      <td>18.1</td>\n",
              "      <td>26.5</td>\n",
              "      <td>No</td>\n",
              "      <td>No</td>\n",
              "    </tr>\n",
              "    <tr>\n",
              "      <th>4</th>\n",
              "      <td>2008-12-05</td>\n",
              "      <td>Albury</td>\n",
              "      <td>17.5</td>\n",
              "      <td>32.3</td>\n",
              "      <td>1.0</td>\n",
              "      <td>NaN</td>\n",
              "      <td>NaN</td>\n",
              "      <td>W</td>\n",
              "      <td>41.0</td>\n",
              "      <td>ENE</td>\n",
              "      <td>...</td>\n",
              "      <td>82.0</td>\n",
              "      <td>33.0</td>\n",
              "      <td>1010.8</td>\n",
              "      <td>1006.0</td>\n",
              "      <td>7.0</td>\n",
              "      <td>8.0</td>\n",
              "      <td>17.8</td>\n",
              "      <td>29.7</td>\n",
              "      <td>No</td>\n",
              "      <td>No</td>\n",
              "    </tr>\n",
              "  </tbody>\n",
              "</table>\n",
              "<p>5 rows × 23 columns</p>\n",
              "</div>\n",
              "    <div class=\"colab-df-buttons\">\n",
              "\n",
              "  <div class=\"colab-df-container\">\n",
              "    <button class=\"colab-df-convert\" onclick=\"convertToInteractive('df-fb1ff404-0b63-42f1-ab8c-97edba9d4a09')\"\n",
              "            title=\"Convert this dataframe to an interactive table.\"\n",
              "            style=\"display:none;\">\n",
              "\n",
              "  <svg xmlns=\"http://www.w3.org/2000/svg\" height=\"24px\" viewBox=\"0 -960 960 960\">\n",
              "    <path d=\"M120-120v-720h720v720H120Zm60-500h600v-160H180v160Zm220 220h160v-160H400v160Zm0 220h160v-160H400v160ZM180-400h160v-160H180v160Zm440 0h160v-160H620v160ZM180-180h160v-160H180v160Zm440 0h160v-160H620v160Z\"/>\n",
              "  </svg>\n",
              "    </button>\n",
              "\n",
              "  <style>\n",
              "    .colab-df-container {\n",
              "      display:flex;\n",
              "      gap: 12px;\n",
              "    }\n",
              "\n",
              "    .colab-df-convert {\n",
              "      background-color: #E8F0FE;\n",
              "      border: none;\n",
              "      border-radius: 50%;\n",
              "      cursor: pointer;\n",
              "      display: none;\n",
              "      fill: #1967D2;\n",
              "      height: 32px;\n",
              "      padding: 0 0 0 0;\n",
              "      width: 32px;\n",
              "    }\n",
              "\n",
              "    .colab-df-convert:hover {\n",
              "      background-color: #E2EBFA;\n",
              "      box-shadow: 0px 1px 2px rgba(60, 64, 67, 0.3), 0px 1px 3px 1px rgba(60, 64, 67, 0.15);\n",
              "      fill: #174EA6;\n",
              "    }\n",
              "\n",
              "    .colab-df-buttons div {\n",
              "      margin-bottom: 4px;\n",
              "    }\n",
              "\n",
              "    [theme=dark] .colab-df-convert {\n",
              "      background-color: #3B4455;\n",
              "      fill: #D2E3FC;\n",
              "    }\n",
              "\n",
              "    [theme=dark] .colab-df-convert:hover {\n",
              "      background-color: #434B5C;\n",
              "      box-shadow: 0px 1px 3px 1px rgba(0, 0, 0, 0.15);\n",
              "      filter: drop-shadow(0px 1px 2px rgba(0, 0, 0, 0.3));\n",
              "      fill: #FFFFFF;\n",
              "    }\n",
              "  </style>\n",
              "\n",
              "    <script>\n",
              "      const buttonEl =\n",
              "        document.querySelector('#df-fb1ff404-0b63-42f1-ab8c-97edba9d4a09 button.colab-df-convert');\n",
              "      buttonEl.style.display =\n",
              "        google.colab.kernel.accessAllowed ? 'block' : 'none';\n",
              "\n",
              "      async function convertToInteractive(key) {\n",
              "        const element = document.querySelector('#df-fb1ff404-0b63-42f1-ab8c-97edba9d4a09');\n",
              "        const dataTable =\n",
              "          await google.colab.kernel.invokeFunction('convertToInteractive',\n",
              "                                                    [key], {});\n",
              "        if (!dataTable) return;\n",
              "\n",
              "        const docLinkHtml = 'Like what you see? Visit the ' +\n",
              "          '<a target=\"_blank\" href=https://colab.research.google.com/notebooks/data_table.ipynb>data table notebook</a>'\n",
              "          + ' to learn more about interactive tables.';\n",
              "        element.innerHTML = '';\n",
              "        dataTable['output_type'] = 'display_data';\n",
              "        await google.colab.output.renderOutput(dataTable, element);\n",
              "        const docLink = document.createElement('div');\n",
              "        docLink.innerHTML = docLinkHtml;\n",
              "        element.appendChild(docLink);\n",
              "      }\n",
              "    </script>\n",
              "  </div>\n",
              "\n",
              "\n",
              "<div id=\"df-344989bc-98ba-43ae-9080-dd4419e7f82c\">\n",
              "  <button class=\"colab-df-quickchart\" onclick=\"quickchart('df-344989bc-98ba-43ae-9080-dd4419e7f82c')\"\n",
              "            title=\"Suggest charts\"\n",
              "            style=\"display:none;\">\n",
              "\n",
              "<svg xmlns=\"http://www.w3.org/2000/svg\" height=\"24px\"viewBox=\"0 0 24 24\"\n",
              "     width=\"24px\">\n",
              "    <g>\n",
              "        <path d=\"M19 3H5c-1.1 0-2 .9-2 2v14c0 1.1.9 2 2 2h14c1.1 0 2-.9 2-2V5c0-1.1-.9-2-2-2zM9 17H7v-7h2v7zm4 0h-2V7h2v10zm4 0h-2v-4h2v4z\"/>\n",
              "    </g>\n",
              "</svg>\n",
              "  </button>\n",
              "\n",
              "<style>\n",
              "  .colab-df-quickchart {\n",
              "      --bg-color: #E8F0FE;\n",
              "      --fill-color: #1967D2;\n",
              "      --hover-bg-color: #E2EBFA;\n",
              "      --hover-fill-color: #174EA6;\n",
              "      --disabled-fill-color: #AAA;\n",
              "      --disabled-bg-color: #DDD;\n",
              "  }\n",
              "\n",
              "  [theme=dark] .colab-df-quickchart {\n",
              "      --bg-color: #3B4455;\n",
              "      --fill-color: #D2E3FC;\n",
              "      --hover-bg-color: #434B5C;\n",
              "      --hover-fill-color: #FFFFFF;\n",
              "      --disabled-bg-color: #3B4455;\n",
              "      --disabled-fill-color: #666;\n",
              "  }\n",
              "\n",
              "  .colab-df-quickchart {\n",
              "    background-color: var(--bg-color);\n",
              "    border: none;\n",
              "    border-radius: 50%;\n",
              "    cursor: pointer;\n",
              "    display: none;\n",
              "    fill: var(--fill-color);\n",
              "    height: 32px;\n",
              "    padding: 0;\n",
              "    width: 32px;\n",
              "  }\n",
              "\n",
              "  .colab-df-quickchart:hover {\n",
              "    background-color: var(--hover-bg-color);\n",
              "    box-shadow: 0 1px 2px rgba(60, 64, 67, 0.3), 0 1px 3px 1px rgba(60, 64, 67, 0.15);\n",
              "    fill: var(--button-hover-fill-color);\n",
              "  }\n",
              "\n",
              "  .colab-df-quickchart-complete:disabled,\n",
              "  .colab-df-quickchart-complete:disabled:hover {\n",
              "    background-color: var(--disabled-bg-color);\n",
              "    fill: var(--disabled-fill-color);\n",
              "    box-shadow: none;\n",
              "  }\n",
              "\n",
              "  .colab-df-spinner {\n",
              "    border: 2px solid var(--fill-color);\n",
              "    border-color: transparent;\n",
              "    border-bottom-color: var(--fill-color);\n",
              "    animation:\n",
              "      spin 1s steps(1) infinite;\n",
              "  }\n",
              "\n",
              "  @keyframes spin {\n",
              "    0% {\n",
              "      border-color: transparent;\n",
              "      border-bottom-color: var(--fill-color);\n",
              "      border-left-color: var(--fill-color);\n",
              "    }\n",
              "    20% {\n",
              "      border-color: transparent;\n",
              "      border-left-color: var(--fill-color);\n",
              "      border-top-color: var(--fill-color);\n",
              "    }\n",
              "    30% {\n",
              "      border-color: transparent;\n",
              "      border-left-color: var(--fill-color);\n",
              "      border-top-color: var(--fill-color);\n",
              "      border-right-color: var(--fill-color);\n",
              "    }\n",
              "    40% {\n",
              "      border-color: transparent;\n",
              "      border-right-color: var(--fill-color);\n",
              "      border-top-color: var(--fill-color);\n",
              "    }\n",
              "    60% {\n",
              "      border-color: transparent;\n",
              "      border-right-color: var(--fill-color);\n",
              "    }\n",
              "    80% {\n",
              "      border-color: transparent;\n",
              "      border-right-color: var(--fill-color);\n",
              "      border-bottom-color: var(--fill-color);\n",
              "    }\n",
              "    90% {\n",
              "      border-color: transparent;\n",
              "      border-bottom-color: var(--fill-color);\n",
              "    }\n",
              "  }\n",
              "</style>\n",
              "\n",
              "  <script>\n",
              "    async function quickchart(key) {\n",
              "      const quickchartButtonEl =\n",
              "        document.querySelector('#' + key + ' button');\n",
              "      quickchartButtonEl.disabled = true;  // To prevent multiple clicks.\n",
              "      quickchartButtonEl.classList.add('colab-df-spinner');\n",
              "      try {\n",
              "        const charts = await google.colab.kernel.invokeFunction(\n",
              "            'suggestCharts', [key], {});\n",
              "      } catch (error) {\n",
              "        console.error('Error during call to suggestCharts:', error);\n",
              "      }\n",
              "      quickchartButtonEl.classList.remove('colab-df-spinner');\n",
              "      quickchartButtonEl.classList.add('colab-df-quickchart-complete');\n",
              "    }\n",
              "    (() => {\n",
              "      let quickchartButtonEl =\n",
              "        document.querySelector('#df-344989bc-98ba-43ae-9080-dd4419e7f82c button');\n",
              "      quickchartButtonEl.style.display =\n",
              "        google.colab.kernel.accessAllowed ? 'block' : 'none';\n",
              "    })();\n",
              "  </script>\n",
              "</div>\n",
              "\n",
              "    </div>\n",
              "  </div>\n"
            ],
            "application/vnd.google.colaboratory.intrinsic+json": {
              "type": "dataframe",
              "variable_name": "dataset"
            }
          },
          "metadata": {},
          "execution_count": 29
        }
      ]
    },
    {
      "cell_type": "markdown",
      "source": [],
      "metadata": {
        "id": "UUN2SdGK5DvY"
      }
    },
    {
      "cell_type": "code",
      "source": [
        "X = dataset.iloc[:,[1,2,3,4,7,8,9,10,11,12,13,14,15,16,17,18,19,20,21]].values  # get the needed columns we will make prediction based on that data\n",
        "Y = dataset.iloc[:,-1].values"
      ],
      "metadata": {
        "id": "Dhp4qgB85CGG"
      },
      "execution_count": 28,
      "outputs": []
    },
    {
      "cell_type": "code",
      "source": [
        "\n",
        "\n",
        "print(X)"
      ],
      "metadata": {
        "colab": {
          "base_uri": "https://localhost:8080/"
        },
        "id": "YkBfPS9T2qrT",
        "outputId": "e4376f9a-8195-46ff-dda2-94fc451258d6"
      },
      "execution_count": 3,
      "outputs": [
        {
          "output_type": "stream",
          "name": "stdout",
          "text": [
            "[['Albury' 13.4 22.9 ... 16.9 21.8 'No']\n",
            " ['Albury' 7.4 25.1 ... 17.2 24.3 'No']\n",
            " ['Albury' 12.9 25.7 ... 21.0 23.2 'No']\n",
            " ...\n",
            " ['Brisbane' 11.7 20.8 ... 17.5 18.8 'No']\n",
            " ['Brisbane' 11.6 20.9 ... 16.7 20.4 'No']\n",
            " ['Brisbane' 10.9 22.4 ... 15.3 22.0 'No']]\n"
          ]
        }
      ]
    },
    {
      "cell_type": "code",
      "source": [
        "\n",
        "print(Y)"
      ],
      "metadata": {
        "colab": {
          "base_uri": "https://localhost:8080/"
        },
        "id": "JUwxdoq12sFL",
        "outputId": "e241ae2f-aac2-4b87-b1f7-698557244104"
      },
      "execution_count": 4,
      "outputs": [
        {
          "output_type": "stream",
          "name": "stdout",
          "text": [
            "['No' 'No' 'No' ... 'No' 'No' 'No']\n"
          ]
        }
      ]
    },
    {
      "cell_type": "code",
      "source": [
        "\n",
        "\n",
        "Y = Y.reshape(-1,1)"
      ],
      "metadata": {
        "id": "b2tkqh8b2uY4"
      },
      "execution_count": 5,
      "outputs": []
    },
    {
      "cell_type": "markdown",
      "source": [
        "# Dealing with invalid Data"
      ],
      "metadata": {
        "id": "s_bxrJ8D3vzA"
      }
    },
    {
      "cell_type": "code",
      "source": [
        "from sklearn.impute import SimpleImputer #for handling missing data.\n",
        "imputer = SimpleImputer(missing_values=np.nan,strategy='most_frequent')  #replace the nan value with most frequent value\n",
        "X = imputer.fit_transform(X)   # Fits the imputer on X and transforms X, filling missing values.\n",
        "Y = imputer.fit_transform(Y)"
      ],
      "metadata": {
        "id": "Q6xlqJJQ2wEu"
      },
      "execution_count": 6,
      "outputs": []
    },
    {
      "cell_type": "code",
      "source": [
        "print(X)"
      ],
      "metadata": {
        "colab": {
          "base_uri": "https://localhost:8080/"
        },
        "id": "4VfrkJj52xp2",
        "outputId": "7e5e6564-e4ed-4b0c-a333-1d5aa26da74d"
      },
      "execution_count": 7,
      "outputs": [
        {
          "output_type": "stream",
          "name": "stdout",
          "text": [
            "[['Albury' 13.4 22.9 ... 16.9 21.8 'No']\n",
            " ['Albury' 7.4 25.1 ... 17.2 24.3 'No']\n",
            " ['Albury' 12.9 25.7 ... 21.0 23.2 'No']\n",
            " ...\n",
            " ['Brisbane' 11.7 20.8 ... 17.5 18.8 'No']\n",
            " ['Brisbane' 11.6 20.9 ... 16.7 20.4 'No']\n",
            " ['Brisbane' 10.9 22.4 ... 15.3 22.0 'No']]\n"
          ]
        }
      ]
    },
    {
      "cell_type": "code",
      "source": [
        "print(Y)"
      ],
      "metadata": {
        "colab": {
          "base_uri": "https://localhost:8080/"
        },
        "id": "4LDzimp42zZL",
        "outputId": "a96056fe-692a-4009-e331-cb0e19752ef9"
      },
      "execution_count": 8,
      "outputs": [
        {
          "output_type": "stream",
          "name": "stdout",
          "text": [
            "[['No']\n",
            " ['No']\n",
            " ['No']\n",
            " ...\n",
            " ['No']\n",
            " ['No']\n",
            " ['No']]\n"
          ]
        }
      ]
    },
    {
      "cell_type": "markdown",
      "source": [
        "# Encoding Dataset"
      ],
      "metadata": {
        "id": "MTl-sAiJ32wj"
      }
    },
    {
      "cell_type": "code",
      "source": [
        "from sklearn.preprocessing import LabelEncoder  #r converting categorical data to numeric\n",
        "le1 = LabelEncoder()  #  Creates a LabelEncoder instance for encoding categorical features.\n",
        "X[:,0] = le1.fit_transform(X[:,0])  #Encodes the first feature in X\n",
        "le2 = LabelEncoder()\n",
        "X[:,4] = le2.fit_transform(X[:,4])  # Encodes the fifth feature in X\n",
        "le3 = LabelEncoder()\n",
        "X[:,6] = le3.fit_transform(X[:,6])  #  Encodes the seventh feature in X\n",
        "le4 = LabelEncoder() # Creates another LabelEncoder instance.\n",
        "X[:,7] = le4.fit_transform(X[:,7])  # Encodes the eighth feature in X\n",
        "le5 = LabelEncoder()\n",
        "X[:,-1] = le5.fit_transform(X[:,-1])\n",
        "le6 = LabelEncoder()\n",
        "Y[:,-1] = le6.fit_transform(Y[:,-1])  # Encodes the target variable Y"
      ],
      "metadata": {
        "id": "G2kgHXFa21F1"
      },
      "execution_count": 9,
      "outputs": []
    },
    {
      "cell_type": "code",
      "source": [
        "print(X)"
      ],
      "metadata": {
        "colab": {
          "base_uri": "https://localhost:8080/"
        },
        "id": "h5FoPjcP23Z9",
        "outputId": "6f8fd7a9-0201-4008-f813-2978d72e43c1"
      },
      "execution_count": 10,
      "outputs": [
        {
          "output_type": "stream",
          "name": "stdout",
          "text": [
            "[[0 13.4 22.9 ... 16.9 21.8 0]\n",
            " [0 7.4 25.1 ... 17.2 24.3 0]\n",
            " [0 12.9 25.7 ... 21.0 23.2 0]\n",
            " ...\n",
            " [4 11.7 20.8 ... 17.5 18.8 0]\n",
            " [4 11.6 20.9 ... 16.7 20.4 0]\n",
            " [4 10.9 22.4 ... 15.3 22.0 0]]\n"
          ]
        }
      ]
    },
    {
      "cell_type": "code",
      "source": [
        "print(Y)"
      ],
      "metadata": {
        "colab": {
          "base_uri": "https://localhost:8080/"
        },
        "id": "lE-AAu7W25dN",
        "outputId": "a4c7b160-f0ab-47f1-e7c7-a6c94e61d848"
      },
      "execution_count": 11,
      "outputs": [
        {
          "output_type": "stream",
          "name": "stdout",
          "text": [
            "[[0]\n",
            " [0]\n",
            " [0]\n",
            " ...\n",
            " [0]\n",
            " [0]\n",
            " [0]]\n"
          ]
        }
      ]
    },
    {
      "cell_type": "code",
      "source": [
        "Y = np.array(Y,dtype=float)\n",
        "print(Y)"
      ],
      "metadata": {
        "colab": {
          "base_uri": "https://localhost:8080/"
        },
        "id": "MKADLFwk27O1",
        "outputId": "74a7ae15-9503-4f7f-ff27-6ca420132f7d"
      },
      "execution_count": 12,
      "outputs": [
        {
          "output_type": "stream",
          "name": "stdout",
          "text": [
            "[[0.]\n",
            " [0.]\n",
            " [0.]\n",
            " ...\n",
            " [0.]\n",
            " [0.]\n",
            " [0.]]\n"
          ]
        }
      ]
    },
    {
      "cell_type": "markdown",
      "source": [
        "# Feature Scaling"
      ],
      "metadata": {
        "id": "qJXtulfw38Xu"
      }
    },
    {
      "cell_type": "code",
      "source": [
        "from sklearn.preprocessing import StandardScaler  #\n",
        "sc = StandardScaler()    #  Creates a StandardScaler instance for feature scaling\n",
        "X = sc.fit_transform(X)   # Fits the scaler on X and transforms X, standardizing the features."
      ],
      "metadata": {
        "id": "2RbiMVhk283I"
      },
      "execution_count": 13,
      "outputs": []
    },
    {
      "cell_type": "code",
      "source": [
        "print(X)"
      ],
      "metadata": {
        "colab": {
          "base_uri": "https://localhost:8080/"
        },
        "id": "lH7RDlQR2-tQ",
        "outputId": "7634b359-6acd-449d-e223-8a14090c6655"
      },
      "execution_count": 14,
      "outputs": [
        {
          "output_type": "stream",
          "name": "stdout",
          "text": [
            "[[-1.65691649  0.35432813  0.11094356 ...  0.1889065   0.17416037\n",
            "  -0.53468267]\n",
            " [-1.65691649 -0.63277254  0.43204888 ...  0.23898104  0.55149426\n",
            "  -0.53468267]\n",
            " [-1.65691649  0.27206974  0.51962305 ...  0.87325853  0.38546735\n",
            "  -0.53468267]\n",
            " ...\n",
            " [-1.18255313  0.0746496  -0.19556607 ...  0.28905558 -0.2786403\n",
            "  -0.53468267]\n",
            " [-1.18255313  0.05819793 -0.18097037 ...  0.15552347 -0.03714661\n",
            "  -0.53468267]\n",
            " [-1.18255313 -0.05696382  0.03796507 ... -0.07815771  0.20434708\n",
            "  -0.53468267]]\n"
          ]
        }
      ]
    },
    {
      "cell_type": "markdown",
      "source": [
        "# Splitting Dataset into Training set and Test set"
      ],
      "metadata": {
        "id": "APtNZR7X4c5E"
      }
    },
    {
      "cell_type": "code",
      "source": [
        "from sklearn.model_selection import train_test_split  # for spliting the data\n",
        "X_train,X_test,Y_train,Y_test = train_test_split(X,Y,test_size=0.2,random_state=0)"
      ],
      "metadata": {
        "id": "1V4czHjf3AHU"
      },
      "execution_count": 16,
      "outputs": []
    },
    {
      "cell_type": "code",
      "source": [
        "\n",
        "\n",
        "print(X_train)"
      ],
      "metadata": {
        "colab": {
          "base_uri": "https://localhost:8080/"
        },
        "id": "Zqg7Wrz03CPa",
        "outputId": "6c5fd616-9fdb-4238-e52e-bbfadb1b244b"
      },
      "execution_count": 17,
      "outputs": [
        {
          "output_type": "stream",
          "name": "stdout",
          "text": [
            "[[ 0.83349116 -0.10631885 -0.37071443 ... -0.26176436 -0.38429379\n",
            "  -0.53468267]\n",
            " [ 1.5450362   1.2591704   0.3152833  ...  0.75641794 -0.03714661\n",
            "   1.87026821]\n",
            " [-0.11523556  0.14045632  0.14013495 ...  0.20559801  0.20434708\n",
            "  -0.53468267]\n",
            " ...\n",
            " [ 1.66362704  1.48949389  0.68017571 ...  1.19039728  0.73261453\n",
            "  -0.53468267]\n",
            " [ 1.66362704  0.12400464 -0.79398962 ... -0.17830679 -0.64088083\n",
            "  -0.53468267]\n",
            " [-0.58959893 -0.20502892 -0.92535089 ... -0.66236067 -1.01821472\n",
            "  -0.53468267]]\n"
          ]
        }
      ]
    },
    {
      "cell_type": "code",
      "source": [
        "\n",
        "\n",
        "print(Y_train)"
      ],
      "metadata": {
        "colab": {
          "base_uri": "https://localhost:8080/"
        },
        "id": "yLRb3iuu3MI_",
        "outputId": "ac7a1014-8b8b-4d5b-f732-1f65c6ccee62"
      },
      "execution_count": 18,
      "outputs": [
        {
          "output_type": "stream",
          "name": "stdout",
          "text": [
            "[[0.]\n",
            " [0.]\n",
            " [0.]\n",
            " ...\n",
            " [0.]\n",
            " [0.]\n",
            " [0.]]\n"
          ]
        }
      ]
    },
    {
      "cell_type": "markdown",
      "source": [
        "# Training Model"
      ],
      "metadata": {
        "id": "4yGPxtDj4unj"
      }
    },
    {
      "cell_type": "code",
      "source": [
        "from sklearn.ensemble import RandomForestClassifier\n",
        "classifier = RandomForestClassifier(n_estimators=100,random_state=0)\n",
        "classifier.fit(X_train,Y_train)"
      ],
      "metadata": {
        "colab": {
          "base_uri": "https://localhost:8080/",
          "height": 129
        },
        "id": "OLCRy9383OBU",
        "outputId": "e7b707d9-d029-430c-ca11-e08b341f47c5"
      },
      "execution_count": 19,
      "outputs": [
        {
          "output_type": "stream",
          "name": "stderr",
          "text": [
            "/usr/local/lib/python3.10/dist-packages/sklearn/base.py:1152: DataConversionWarning: A column-vector y was passed when a 1d array was expected. Please change the shape of y to (n_samples,), for example using ravel().\n",
            "  return fit_method(estimator, *args, **kwargs)\n"
          ]
        },
        {
          "output_type": "execute_result",
          "data": {
            "text/plain": [
              "RandomForestClassifier(random_state=0)"
            ],
            "text/html": [
              "<style>#sk-container-id-1 {color: black;}#sk-container-id-1 pre{padding: 0;}#sk-container-id-1 div.sk-toggleable {background-color: white;}#sk-container-id-1 label.sk-toggleable__label {cursor: pointer;display: block;width: 100%;margin-bottom: 0;padding: 0.3em;box-sizing: border-box;text-align: center;}#sk-container-id-1 label.sk-toggleable__label-arrow:before {content: \"▸\";float: left;margin-right: 0.25em;color: #696969;}#sk-container-id-1 label.sk-toggleable__label-arrow:hover:before {color: black;}#sk-container-id-1 div.sk-estimator:hover label.sk-toggleable__label-arrow:before {color: black;}#sk-container-id-1 div.sk-toggleable__content {max-height: 0;max-width: 0;overflow: hidden;text-align: left;background-color: #f0f8ff;}#sk-container-id-1 div.sk-toggleable__content pre {margin: 0.2em;color: black;border-radius: 0.25em;background-color: #f0f8ff;}#sk-container-id-1 input.sk-toggleable__control:checked~div.sk-toggleable__content {max-height: 200px;max-width: 100%;overflow: auto;}#sk-container-id-1 input.sk-toggleable__control:checked~label.sk-toggleable__label-arrow:before {content: \"▾\";}#sk-container-id-1 div.sk-estimator input.sk-toggleable__control:checked~label.sk-toggleable__label {background-color: #d4ebff;}#sk-container-id-1 div.sk-label input.sk-toggleable__control:checked~label.sk-toggleable__label {background-color: #d4ebff;}#sk-container-id-1 input.sk-hidden--visually {border: 0;clip: rect(1px 1px 1px 1px);clip: rect(1px, 1px, 1px, 1px);height: 1px;margin: -1px;overflow: hidden;padding: 0;position: absolute;width: 1px;}#sk-container-id-1 div.sk-estimator {font-family: monospace;background-color: #f0f8ff;border: 1px dotted black;border-radius: 0.25em;box-sizing: border-box;margin-bottom: 0.5em;}#sk-container-id-1 div.sk-estimator:hover {background-color: #d4ebff;}#sk-container-id-1 div.sk-parallel-item::after {content: \"\";width: 100%;border-bottom: 1px solid gray;flex-grow: 1;}#sk-container-id-1 div.sk-label:hover label.sk-toggleable__label {background-color: #d4ebff;}#sk-container-id-1 div.sk-serial::before {content: \"\";position: absolute;border-left: 1px solid gray;box-sizing: border-box;top: 0;bottom: 0;left: 50%;z-index: 0;}#sk-container-id-1 div.sk-serial {display: flex;flex-direction: column;align-items: center;background-color: white;padding-right: 0.2em;padding-left: 0.2em;position: relative;}#sk-container-id-1 div.sk-item {position: relative;z-index: 1;}#sk-container-id-1 div.sk-parallel {display: flex;align-items: stretch;justify-content: center;background-color: white;position: relative;}#sk-container-id-1 div.sk-item::before, #sk-container-id-1 div.sk-parallel-item::before {content: \"\";position: absolute;border-left: 1px solid gray;box-sizing: border-box;top: 0;bottom: 0;left: 50%;z-index: -1;}#sk-container-id-1 div.sk-parallel-item {display: flex;flex-direction: column;z-index: 1;position: relative;background-color: white;}#sk-container-id-1 div.sk-parallel-item:first-child::after {align-self: flex-end;width: 50%;}#sk-container-id-1 div.sk-parallel-item:last-child::after {align-self: flex-start;width: 50%;}#sk-container-id-1 div.sk-parallel-item:only-child::after {width: 0;}#sk-container-id-1 div.sk-dashed-wrapped {border: 1px dashed gray;margin: 0 0.4em 0.5em 0.4em;box-sizing: border-box;padding-bottom: 0.4em;background-color: white;}#sk-container-id-1 div.sk-label label {font-family: monospace;font-weight: bold;display: inline-block;line-height: 1.2em;}#sk-container-id-1 div.sk-label-container {text-align: center;}#sk-container-id-1 div.sk-container {/* jupyter's `normalize.less` sets `[hidden] { display: none; }` but bootstrap.min.css set `[hidden] { display: none !important; }` so we also need the `!important` here to be able to override the default hidden behavior on the sphinx rendered scikit-learn.org. See: https://github.com/scikit-learn/scikit-learn/issues/21755 */display: inline-block !important;position: relative;}#sk-container-id-1 div.sk-text-repr-fallback {display: none;}</style><div id=\"sk-container-id-1\" class=\"sk-top-container\"><div class=\"sk-text-repr-fallback\"><pre>RandomForestClassifier(random_state=0)</pre><b>In a Jupyter environment, please rerun this cell to show the HTML representation or trust the notebook. <br />On GitHub, the HTML representation is unable to render, please try loading this page with nbviewer.org.</b></div><div class=\"sk-container\" hidden><div class=\"sk-item\"><div class=\"sk-estimator sk-toggleable\"><input class=\"sk-toggleable__control sk-hidden--visually\" id=\"sk-estimator-id-1\" type=\"checkbox\" checked><label for=\"sk-estimator-id-1\" class=\"sk-toggleable__label sk-toggleable__label-arrow\">RandomForestClassifier</label><div class=\"sk-toggleable__content\"><pre>RandomForestClassifier(random_state=0)</pre></div></div></div></div></div>"
            ]
          },
          "metadata": {},
          "execution_count": 19
        }
      ]
    },
    {
      "cell_type": "code",
      "source": [
        "classifier.score(X_train,Y_train)  # Evaluates the model’s performance on the training data."
      ],
      "metadata": {
        "colab": {
          "base_uri": "https://localhost:8080/"
        },
        "id": "Cizc6nk73QrQ",
        "outputId": "92a15c03-b69a-4c96-a16c-4123a1b52f67"
      },
      "execution_count": 20,
      "outputs": [
        {
          "output_type": "execute_result",
          "data": {
            "text/plain": [
              "0.9998992820247191"
            ]
          },
          "metadata": {},
          "execution_count": 20
        }
      ]
    },
    {
      "cell_type": "markdown",
      "source": [],
      "metadata": {
        "id": "_Cw2dRbzAa7-"
      }
    },
    {
      "cell_type": "code",
      "source": [
        "\n",
        "y_pred = le6.inverse_transform(np.array(classifier.predict(X_test),dtype=int))\n",
        "Y_test = le6.inverse_transform(np.array(Y_test,dtype=int))"
      ],
      "metadata": {
        "colab": {
          "base_uri": "https://localhost:8080/"
        },
        "id": "dGCEbnBY3S6C",
        "outputId": "802c9195-3ae5-4c4c-8797-57ed4f8c779d"
      },
      "execution_count": 21,
      "outputs": [
        {
          "output_type": "stream",
          "name": "stderr",
          "text": [
            "/usr/local/lib/python3.10/dist-packages/sklearn/preprocessing/_label.py:153: DataConversionWarning: A column-vector y was passed when a 1d array was expected. Please change the shape of y to (n_samples, ), for example using ravel().\n",
            "  y = column_or_1d(y, warn=True)\n"
          ]
        }
      ]
    },
    {
      "cell_type": "code",
      "source": [
        "\n",
        "\n",
        "print(y_pred)"
      ],
      "metadata": {
        "colab": {
          "base_uri": "https://localhost:8080/"
        },
        "id": "rxBIHFt33VoA",
        "outputId": "a995bf5d-0366-48c9-a475-865a0d4d34df"
      },
      "execution_count": 22,
      "outputs": [
        {
          "output_type": "stream",
          "name": "stdout",
          "text": [
            "['No' 'No' 'No' ... 'No' 'No' 'No']\n"
          ]
        }
      ]
    },
    {
      "cell_type": "code",
      "source": [
        "\n",
        "\n",
        "print(Y_test)"
      ],
      "metadata": {
        "colab": {
          "base_uri": "https://localhost:8080/"
        },
        "id": "dbQcr0is3XIy",
        "outputId": "31b05eb7-398b-4dbc-884a-e03848ea0a55"
      },
      "execution_count": 23,
      "outputs": [
        {
          "output_type": "stream",
          "name": "stdout",
          "text": [
            "['Yes' 'No' 'No' ... 'No' 'No' 'No']\n"
          ]
        }
      ]
    },
    {
      "cell_type": "code",
      "source": [
        "c"
      ],
      "metadata": {
        "id": "EpK4UC-W3Ymy"
      },
      "execution_count": 24,
      "outputs": []
    },
    {
      "cell_type": "code",
      "source": [
        "\n",
        "df = np.concatenate((Y_test,y_pred),axis=1)\n",
        "dataframe = pd.DataFrame(df,columns=['Rain on Tommorrow','Predition of Rain'])\n",
        ""
      ],
      "metadata": {
        "id": "AbCFqP2D3acw"
      },
      "execution_count": 25,
      "outputs": []
    },
    {
      "cell_type": "code",
      "source": [
        "print(dataframe)"
      ],
      "metadata": {
        "colab": {
          "base_uri": "https://localhost:8080/"
        },
        "id": "QtLa4Aot3b5p",
        "outputId": "11d25211-091b-4762-db09-7032c3546527"
      },
      "execution_count": 26,
      "outputs": [
        {
          "output_type": "stream",
          "name": "stdout",
          "text": [
            "      Rain on Tommorrow Predition of Rain\n",
            "0                   Yes                No\n",
            "1                    No                No\n",
            "2                    No                No\n",
            "3                    No                No\n",
            "4                   Yes               Yes\n",
            "...                 ...               ...\n",
            "17371                No                No\n",
            "17372                No                No\n",
            "17373                No                No\n",
            "17374                No                No\n",
            "17375                No                No\n",
            "\n",
            "[17376 rows x 2 columns]\n"
          ]
        }
      ]
    },
    {
      "cell_type": "markdown",
      "source": [
        "# Calculating Accuracy"
      ],
      "metadata": {
        "id": "GYR1BzqZ46ib"
      }
    },
    {
      "cell_type": "code",
      "source": [
        "from sklearn.metrics import accuracy_score\n",
        "accuracy_score(Y_test,y_pred)"
      ],
      "metadata": {
        "colab": {
          "base_uri": "https://localhost:8080/"
        },
        "id": "q5Kebi623dtL",
        "outputId": "6d2a7a8b-6446-42fe-b963-5949402dd9a2"
      },
      "execution_count": 27,
      "outputs": [
        {
          "output_type": "execute_result",
          "data": {
            "text/plain": [
              "0.8454765193370166"
            ]
          },
          "metadata": {},
          "execution_count": 27
        }
      ]
    },
    {
      "cell_type": "markdown",
      "source": [
        "# Save the Model"
      ],
      "metadata": {
        "id": "6M06xYw16-Rj"
      }
    },
    {
      "cell_type": "code",
      "source": [
        "import joblib\n",
        "\n",
        "# Save the trained model to a file\n",
        "joblib.dump(classifier, 'rain_prediction_model.pkl')\n"
      ],
      "metadata": {
        "colab": {
          "base_uri": "https://localhost:8080/"
        },
        "id": "FKckMk4O6-mQ",
        "outputId": "e599f6f8-9724-4dcf-aa9e-19c73c73731c"
      },
      "execution_count": 30,
      "outputs": [
        {
          "output_type": "execute_result",
          "data": {
            "text/plain": [
              "['rain_prediction_model.pkl']"
            ]
          },
          "metadata": {},
          "execution_count": 30
        }
      ]
    },
    {
      "cell_type": "markdown",
      "source": [
        "# Load the Model and Test It"
      ],
      "metadata": {
        "id": "rsOGWEFh7Cu6"
      }
    },
    {
      "cell_type": "code",
      "source": [
        "import numpy as np\n",
        "import pandas as pd\n",
        "import joblib\n",
        "from sklearn.preprocessing import LabelEncoder, StandardScaler\n",
        "from sklearn.impute import SimpleImputer\n",
        "\n",
        "# Load the saved model\n",
        "classifier = joblib.load('rain_prediction_model.pkl')\n",
        "\n",
        "# Load the dataset for preprocessing steps\n",
        "dataset = pd.read_csv('weatherAUS.csv')\n",
        "X = dataset.iloc[:, [1, 2, 3, 4, 7, 8, 9, 10, 11, 12, 13, 14, 15, 16, 17, 18, 19, 20, 21]].values\n",
        "Y = dataset.iloc[:, -1].values\n",
        "\n",
        "# Impute missing values\n",
        "imputer = SimpleImputer(missing_values=np.nan, strategy='most_frequent')\n",
        "X = imputer.fit_transform(X)\n",
        "\n",
        "# Label encode categorical variables\n",
        "le1 = LabelEncoder()\n",
        "X[:, 0] = le1.fit_transform(X[:, 0])\n",
        "\n",
        "le2 = LabelEncoder()\n",
        "X[:, 4] = le2.fit_transform(X[:, 4])\n",
        "\n",
        "le3 = LabelEncoder()\n",
        "X[:, 6] = le3.fit_transform(X[:, 6])\n",
        "\n",
        "le4 = LabelEncoder()\n",
        "X[:, 7] = le4.fit_transform(X[:, 7])\n",
        "\n",
        "le5 = LabelEncoder()\n",
        "X[:, -1] = le5.fit_transform(X[:, -1])\n",
        "\n",
        "le6 = LabelEncoder()\n",
        "Y = le6.fit_transform(Y)\n",
        "\n",
        "# Feature scaling\n",
        "sc = StandardScaler()\n",
        "X = sc.fit_transform(X)\n",
        "\n",
        "# Save preprocessing objects\n",
        "joblib.dump(imputer, 'imputer.pkl')\n",
        "joblib.dump(le1, 'le1.pkl')\n",
        "joblib.dump(le2, 'le2.pkl')\n",
        "joblib.dump(le3, 'le3.pkl')\n",
        "joblib.dump(le4, 'le4.pkl')\n",
        "joblib.dump(le5, 'le5.pkl')\n",
        "joblib.dump(le6, 'le6.pkl')\n",
        "joblib.dump(sc, 'sc.pkl')\n",
        "\n",
        "# Load preprocessing objects for testing\n",
        "imputer = joblib.load('imputer.pkl')\n",
        "le1 = joblib.load('le1.pkl')\n",
        "le2 = joblib.load('le2.pkl')\n",
        "le3 = joblib.load('le3.pkl')\n",
        "le4 = joblib.load('le4.pkl')\n",
        "le5 = joblib.load('le5.pkl')\n",
        "le6 = joblib.load('le6.pkl')\n",
        "sc = joblib.load('sc.pkl')\n",
        "\n",
        "# Prepare sample input (ensure it has all 19 features)\n",
        "sample_data = np.array([[0, 13.4, 22.9, 0.6, 44.0, 0.0, 71.0, 22.0, 1007.7, 8.0, 16.9, 21.8, 0, 0, 0, 0, 0, 0, 0]])\n",
        "\n",
        "# Apply imputation to the sample data\n",
        "sample_data = imputer.transform(sample_data)\n",
        "\n",
        "# Handle Label Encoding with consistent categories\n",
        "def safe_transform(encoder, data):\n",
        "    # Convert all unknown labels to a known value or handle accordingly\n",
        "    known_values = encoder.classes_\n",
        "    transformed_data = np.array([val if val in known_values else known_values[0] for val in data])\n",
        "    return encoder.transform(transformed_data)\n",
        "\n",
        "# Label encode sample data\n",
        "sample_data[:, 0] = safe_transform(le1, sample_data[:, 0])\n",
        "sample_data[:, 4] = safe_transform(le2, sample_data[:, 4])\n",
        "sample_data[:, 6] = safe_transform(le3, sample_data[:, 6])\n",
        "sample_data[:, 7] = safe_transform(le4, sample_data[:, 7])\n",
        "\n",
        "# Feature scaling\n",
        "sample_data = sc.transform(sample_data)\n",
        "\n",
        "# Predict\n",
        "prediction = classifier.predict(sample_data)\n",
        "\n",
        "# Ensure prediction is integer type\n",
        "prediction = prediction.astype(int)\n",
        "\n",
        "# Handle decoding errors\n",
        "def safe_inverse_transform(encoder, data):\n",
        "    try:\n",
        "        return encoder.inverse_transform(data)\n",
        "    except ValueError as e:\n",
        "        print(f\"Error during inverse transformation: {e}\")\n",
        "        return [np.nan] * len(data)\n",
        "\n",
        "prediction_decoded = safe_inverse_transform(le6, prediction)\n",
        "\n",
        "print(f'Prediction for the sample data: {prediction_decoded[0]}')\n"
      ],
      "metadata": {
        "colab": {
          "base_uri": "https://localhost:8080/"
        },
        "id": "gBG3_-5h7A2E",
        "outputId": "afd973c8-78e3-425d-ff5c-eadcd83ac90e"
      },
      "execution_count": 36,
      "outputs": [
        {
          "output_type": "stream",
          "name": "stdout",
          "text": [
            "Prediction for the sample data: Yes\n"
          ]
        }
      ]
    },
    {
      "cell_type": "code",
      "source": [],
      "metadata": {
        "id": "7DBAckUO7EHi"
      },
      "execution_count": null,
      "outputs": []
    }
  ]
}